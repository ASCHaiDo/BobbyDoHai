{
  "nbformat": 4,
  "nbformat_minor": 0,
  "metadata": {
    "colab": {
      "name": "VN_Lab_6__Basis_statistics_with_Python.ipynb",
      "provenance": [],
      "collapsed_sections": [],
      "include_colab_link": true
    },
    "kernelspec": {
      "name": "python3",
      "display_name": "Python 3"
    }
  },
  "cells": [
    {
      "cell_type": "markdown",
      "metadata": {
        "id": "view-in-github",
        "colab_type": "text"
      },
      "source": [
        "<a href=\"https://colab.research.google.com/github/BobbyDoHai/BobbyDoHai/blob/main/VN_Lab_6__Basis_statistics_with_Python.ipynb\" target=\"_parent\"><img src=\"https://colab.research.google.com/assets/colab-badge.svg\" alt=\"Open In Colab\"/></a>"
      ]
    },
    {
      "cell_type": "markdown",
      "metadata": {
        "id": "3X9DCItLsDQB"
      },
      "source": [
        "# Thiết lập Notebook\n"
      ]
    },
    {
      "cell_type": "code",
      "metadata": {
        "id": "BHcLSzC-rVQR",
        "colab": {
          "base_uri": "https://localhost:8080/",
          "height": 35
        },
        "outputId": "3f77822f-67d1-4fa5-8786-fecf369de327"
      },
      "source": [
        "%pylab inline\n",
        "from scipy import *\n",
        "from numpy.linalg import norm\n",
        "from math import sqrt,sin,cos\n",
        "import pandas as pd\n",
        "import numpy as np\n",
        "from numpy import arange,array,ones,linalg"
      ],
      "execution_count": null,
      "outputs": [
        {
          "output_type": "stream",
          "text": [
            "Populating the interactive namespace from numpy and matplotlib\n"
          ],
          "name": "stdout"
        }
      ]
    },
    {
      "cell_type": "markdown",
      "metadata": {
        "id": "lWc2vybysLiE"
      },
      "source": [
        "# Phần 1:  Sai số toàn phương trung bình (MSE)"
      ]
    },
    {
      "cell_type": "markdown",
      "metadata": {
        "id": "2WYV2to3sSJQ"
      },
      "source": [
        "Chúng ta đã xem xét công cụ ước tính trung bình mẫu cho trung bình của phân phối. Một công cụ ước lượng khác cho giá trị trung bình của phân phối là công cụ ước lượng trung bình tối thiểu-tối đa (min-max-mean estimator) lấy giá trị trung bình (mean) của các giá trị quan sát nhỏ nhất và lớn nhất. Ví dụ: đối với mẫu {1, 2, 1, 5, 1}, giá trị trung bình mẫu là (1+2+1+5+1)/5=2 trong khi giá trị trung bình tối thiểu là (1+5)/2=3. Trong bài toán này, chúng tôi yêu cầu bạn chạy mô phỏng xấp xỉ sai số toàn phương trung bình (MSE) của hai công cụ ước tính để có phân phối đồng đều.\n",
        "\n",
        "Lấy một phân bố đồng đều liên tục giữa a và b - đã cho dưới dạng tham số. Vẽ một mẫu 10 quan sát từ phân phối này và tính giá trị trung bình của mẫu và trung bình tối thiểu-tối đa. Lặp lại thử nghiệm 100.000 lần và đối với mỗi công cụ ước tính, hãy tính độ chệch trung bình bằng cách ước tính MSE của bạn."
      ]
    },
    {
      "cell_type": "code",
      "metadata": {
        "id": "PEX6fy5canOS"
      },
      "source": [
        ""
      ],
      "execution_count": null,
      "outputs": []
    },
    {
      "cell_type": "markdown",
      "metadata": {
        "id": "xyZPYauEs4tT"
      },
      "source": [
        "## Bài toán 1"
      ]
    },
    {
      "cell_type": "markdown",
      "metadata": {
        "id": "VZA6szwgs8qw"
      },
      "source": [
        "Đối với bài toán này, bạn được yêu cầu viết hàm **Sample_Mean_MSE** tính toán giá trị MSE của công cụ ước tính trung bình mẫu cho các mẫu được rút ra từ phân phối đồng nhất với giới hạn $a$ và $b$."
      ]
    },
    {
      "cell_type": "markdown",
      "metadata": {
        "id": "mNih370_tAxe"
      },
      "source": [
        "<font  style=\"color:blue\"> **Code:**</font>\n",
        "```python\n",
        "Sample_Mean_MSE(1,5)      \n",
        "```\n",
        "\n",
        "\n",
        "<font  style=\"color:magenta\"> **Output**</font>\n",
        "```\n",
        "0.1343368663225577\n",
        "```"
      ]
    },
    {
      "cell_type": "markdown",
      "metadata": {
        "id": "sE8aHMMM9Du2"
      },
      "source": [
        "**Viết code của bạn cho Sample_Mean_MSE vào ô dưới đây:**"
      ]
    },
    {
      "cell_type": "code",
      "metadata": {
        "id": "pOJUjxsOsPxy"
      },
      "source": [
        "# modify this cell\n",
        "\n",
        "def Sample_Mean_MSE(a,b):\n",
        "    # inputs: bounds for uniform distribution a and b\n",
        "    # sample size is 10\n",
        "    # number of experiments is 100,000\n",
        "    # output: MSE for sample mean estimator with sample size 10\n",
        "    ..."
      ],
      "execution_count": null,
      "outputs": []
    },
    {
      "cell_type": "code",
      "metadata": {
        "id": "GcIqm4DbtFNO",
        "colab": {
          "base_uri": "https://localhost:8080/",
          "height": 72
        },
        "outputId": "6816e713-846a-4263-be92-129dd5c1dd8f"
      },
      "source": [
        "# Check Function\n",
        "assert abs(Sample_Mean_MSE(-5,5)-0.83333333333333) < 0.05\n",
        "assert abs(Sample_Mean_MSE(-10,10)-3.33333333333333) < 0.05\n",
        "\n",
        "#\n",
        "# AUTOGRADER TEST - DO NOT REMOVE\n",
        "#\n"
      ],
      "execution_count": null,
      "outputs": [
        {
          "output_type": "stream",
          "text": [
            "/usr/local/lib/python3.6/dist-packages/ipykernel_launcher.py:8: DeprecationWarning: scipy.sum is deprecated and will be removed in SciPy 2.0.0, use numpy.sum instead\n",
            "  \n"
          ],
          "name": "stderr"
        }
      ]
    },
    {
      "cell_type": "code",
      "metadata": {
        "id": "KqfMVj2Otb8l",
        "colab": {
          "base_uri": "https://localhost:8080/",
          "height": 89
        },
        "outputId": "8ad98de2-9643-4b0d-9b39-2908ae41285d"
      },
      "source": [
        "Sample_Mean_MSE(1,5)"
      ],
      "execution_count": null,
      "outputs": [
        {
          "output_type": "stream",
          "text": [
            "/usr/local/lib/python3.6/dist-packages/ipykernel_launcher.py:8: DeprecationWarning: scipy.sum is deprecated and will be removed in SciPy 2.0.0, use numpy.sum instead\n",
            "  \n"
          ],
          "name": "stderr"
        },
        {
          "output_type": "execute_result",
          "data": {
            "text/plain": [
              "0.1343368663225577"
            ]
          },
          "metadata": {
            "tags": []
          },
          "execution_count": 11
        }
      ]
    },
    {
      "cell_type": "markdown",
      "metadata": {
        "id": "tq_d0mHIuIr5"
      },
      "source": [
        "## Bài toán 2"
      ]
    },
    {
      "cell_type": "markdown",
      "metadata": {
        "id": "NOXh2KZsuK_0"
      },
      "source": [
        "Đối với bài toán này, bạn được yêu cầu viết hàm **MinMax_Mean_MSE** tính toán giá trị MSE của ước tính trung bình tối thiểu-tối đa cho các mẫu được rút ra từ phân phối đồng nhất với giới hạn $a$ và $b$."
      ]
    },
    {
      "cell_type": "markdown",
      "metadata": {
        "id": "eRcXX8WWuQVJ"
      },
      "source": [
        "<font  style=\"color:blue\"> **Code:**</font>\n",
        "```python\n",
        "MinMax_Mean_MSE(0,10)      \n",
        "```\n",
        "\n",
        "\n",
        "<font  style=\"color:magenta\"> **Output:**</font>\n",
        "\n",
        "0.37865973633197908"
      ]
    },
    {
      "cell_type": "markdown",
      "metadata": {
        "id": "ccWMtDP19J2t"
      },
      "source": [
        "**Viết code của bạn cho MinMax_Mean_MSE vào ô dưới đây:**"
      ]
    },
    {
      "cell_type": "code",
      "metadata": {
        "id": "07cBkk1GttrK"
      },
      "source": [
        "# modify this cell\n",
        "\n",
        "def MinMax_Mean_MSE(a,b):\n",
        "    # inputs: bounds for uniform distribution a and b\n",
        "    # sample size is 10\n",
        "    # number of experiments is 100,000\n",
        "    # output: MSE for sample mean estimator with sample size 10\n",
        "    ...\n"
      ],
      "execution_count": null,
      "outputs": []
    },
    {
      "cell_type": "code",
      "metadata": {
        "id": "xcKMSyIouU5I",
        "colab": {
          "base_uri": "https://localhost:8080/",
          "height": 72
        },
        "outputId": "695795e4-6712-45ce-f6c0-24b9bb94a2b3"
      },
      "source": [
        "# Check Function\n",
        "assert abs(MinMax_Mean_MSE(-5,5)-0.37882324043882964) < 0.05\n",
        "assert abs(MinMax_Mean_MSE(-10,10)-1.5151124438250361) < 0.05"
      ],
      "execution_count": null,
      "outputs": [
        {
          "output_type": "stream",
          "text": [
            "/usr/local/lib/python3.6/dist-packages/ipykernel_launcher.py:8: DeprecationWarning: scipy.sum is deprecated and will be removed in SciPy 2.0.0, use numpy.sum instead\n",
            "  \n"
          ],
          "name": "stderr"
        }
      ]
    },
    {
      "cell_type": "markdown",
      "metadata": {
        "id": "mSRlSt5x0_M4"
      },
      "source": [
        "# Phần 2: Hồi quy"
      ]
    },
    {
      "cell_type": "markdown",
      "metadata": {
        "id": "GjVlnR7m1HPR"
      },
      "source": [
        "Bây giờ đến lượt bạn thử tất cả các code trên. Với bài tập này, bạn sẽ đo lường mối quan hệ giữa số giờ học và điểm của học sinh cho một tập dữ liệu mô phỏng. Dưới đây là biểu đồ phân tán của dữ liệu.\n"
      ]
    },
    {
      "cell_type": "code",
      "metadata": {
        "id": "BT6Ch_3b1JKr"
      },
      "source": [
        "data = pd.read_csv('data/hw_regression_data.csv')\n",
        "print(data.shape)\n",
        "data.head()"
      ],
      "execution_count": null,
      "outputs": []
    },
    {
      "cell_type": "code",
      "metadata": {
        "id": "fW_B8u5u1DYo"
      },
      "source": [
        "ax= data.plot(kind='scatter',s=1.4,x=\"study_hours\",y=\"grades\",figsize=[10,8]);"
      ],
      "execution_count": null,
      "outputs": []
    },
    {
      "cell_type": "markdown",
      "metadata": {
        "id": "MSAr81589kjA"
      },
      "source": [
        "## Bài toán 3: Lấy giá trị trung bình"
      ]
    },
    {
      "cell_type": "markdown",
      "metadata": {
        "id": "gqOyV09s1sOq"
      },
      "source": [
        "\n",
        "\n",
        "Viết hàm **get_averages**, trong đó:\n",
        "1. Đối với tất cả các điểm dữ liệu, làm tròn số giờ học của sinh viên đến số nguyên gần nhất.\n",
        "2. Tính điểm trung bình cho mỗi số giờ học đã làm tròn.\n",
        "\n",
        "Hàm sẽ trả về khung dữ liệu pandas của các điểm trung bình cho mỗi số nguyên được làm tròn hiện có. Phần đầu của khung dữ liệu pandas  được cung cấp cho bạn dưới đây:\n",
        "\n",
        "<font  style=\"color:blue\">  **Code:** </font>\n",
        "```python\n",
        "grade_means = get_averages(data)\n",
        "\n",
        "print(type(grade_means))\n",
        "print(grade_means.shape)\n",
        "print(grade_means.columns) \n",
        "grade_means.head()\n",
        "```\n",
        "\n",
        "<font  style=\"color:magenta\"> **Output:**</font>\n",
        "```\n",
        "<class 'pandas.core.frame.DataFrame'>\n",
        "(38, 1)\n",
        "Index([u'grades'], dtype='object')\n",
        "```\n",
        "<img src=\"data/reg_ex_table.png\"  style=\"width: 190px;\"/>"
      ]
    },
    {
      "cell_type": "markdown",
      "metadata": {
        "id": "wVKt-Q769XHe"
      },
      "source": [
        "**Viết code của bạn cho get_averages trong ô dưới đây:**"
      ]
    },
    {
      "cell_type": "code",
      "metadata": {
        "id": "Eqbm87iU24QD"
      },
      "source": [
        "# modify this cell\n",
        "\n",
        "def get_averages(data):\n",
        "    # input: the HW's dataset\n",
        "    # output: a pandas dataframe yielding the mean grade for each rounded number of study hours\n",
        "    ...\n"
      ],
      "execution_count": null,
      "outputs": []
    },
    {
      "cell_type": "code",
      "metadata": {
        "id": "USX_Fe_z1lg2"
      },
      "source": [
        "# check student function\n",
        "grade_means = get_averages(data)\n",
        "\n",
        "assert grade_means.shape == (38, 1)\n",
        "assert str(type(grade_means)) == \"<class 'pandas.core.frame.DataFrame'>\"\n",
        "\n",
        "try: assert grade_means.columns[0] == \"grades\"\n",
        "except: raise ValueError('the column in \"grade_means\" must be named grades')\n",
        "\n",
        "try: assert sum(abs( grade_means.tail()[\"grades\"].values - \\\n",
        "               np.array([ 90.77739,90.02272,92.97258,91.87963,93.48365])    )) < 10**-4\n",
        "except: raise ValueError('some values are incorrect in grade_means')\n",
        " \n",
        "\n",
        "# plot Graph\n",
        "ax= data.plot(kind='scatter',s=1.4,x=\"study_hours\",y=\"grades\",figsize=[10,8]);\n",
        "grade_means.plot(y='grades',style='ro', ax=ax,legend=False)\n",
        "_xlim = xlim()\n",
        "_ylim =ylim()\n",
        "for _x in arange(_xlim[0]+0.5,_xlim[1],1):\n",
        "    plot([_x,_x],[_ylim[0],_ylim[1]],'g')"
      ],
      "execution_count": null,
      "outputs": []
    },
    {
      "cell_type": "markdown",
      "metadata": {
        "id": "CaiUGzwD3zYj"
      },
      "source": [
        "## Bài toán 4 Hồi quy tuyến tính đơn giản"
      ]
    },
    {
      "cell_type": "markdown",
      "metadata": {
        "id": "YRUo07oc34rY"
      },
      "source": [
        "Viết hàm **do_regression**, thực hiện hồi quy tuyến tính để trả về \n",
        "$ \\;\n",
        " {\\bf w} = \\begin{pmatrix}\n",
        " w_0\\\\\n",
        " w_1\n",
        " \\end{pmatrix}\n",
        "$\n",
        "cho phương trình:\n",
        "\n",
        "$$\n",
        "\\text{grades}= w_0 + w_1 \\cdot \\text{study_hours}\n",
        "$$\n",
        "\n",
        "***Gợi ý***: Sử dụng hàm `linalg.lstsq` \n",
        "\n",
        "\n",
        "<font  style=\"color:blue\"> ***Code:***</font>\n",
        "```python\n",
        "w = do_regression(data)\n",
        "print type(w)\n",
        "print w.shape\n",
        "```\n",
        "\n",
        "<font  style=\"color:magenta\"> ***Output:***</font>\n",
        "```\n",
        "<type 'numpy.ndarray'>\n",
        "(2,)\n",
        "```"
      ]
    },
    {
      "cell_type": "markdown",
      "metadata": {
        "id": "fHGrMeP19axx"
      },
      "source": [
        "**Viết code của bạn cho do_regression trong ô dưới đây:**"
      ]
    },
    {
      "cell_type": "code",
      "metadata": {
        "id": "yLcf9yMc2-YZ"
      },
      "source": [
        "# modify this cell\n",
        "\n",
        "def do_regression(data):\n",
        "    # input: the HW's dataset\n",
        "    # output: a numpy array yielding w=(w0,w1) from linear regression\n",
        "    ...\n"
      ],
      "execution_count": null,
      "outputs": []
    },
    {
      "cell_type": "code",
      "metadata": {
        "id": "pt_PRKgG3_Ab"
      },
      "source": [
        "# check student function\n",
        "w1_hw = do_regression(data)\n",
        "assert str(type(w1_hw)) ==  \"<class 'numpy.ndarray'>\"\n",
        "assert w1_hw.shape == (2,)\n",
        "assert abs(w1_hw[0] - 48.0694704904) < 10**-5\n",
        "\n",
        "# plot Means\n",
        "print(w1_hw)\n",
        "ax= data.plot(kind='scatter',s=1.4,x=\"study_hours\",y=\"grades\",figsize=[10,8]);\n",
        "x0,x1=xlim()\n",
        "print(x0, x1)\n",
        "ax.plot([x0,x1],[f(x0,w1_hw),f(x1,w1_hw)],'k');\n",
        "\n"
      ],
      "execution_count": null,
      "outputs": []
    }
  ]
}